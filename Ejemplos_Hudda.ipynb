{
 "cells": [
  {
   "cell_type": "code",
   "execution_count": 5,
   "id": "3ea76da1",
   "metadata": {},
   "outputs": [
    {
     "name": "stdout",
     "output_type": "stream",
     "text": [
      "  881.422 μs (1 allocation: 12 bytes)\n"
     ]
    },
    {
     "data": {
      "text/plain": [
       "577.2845728416437"
      ]
     },
     "execution_count": 5,
     "metadata": {},
     "output_type": "execute_result"
    }
   ],
   "source": [
    "using BenchmarkTools\n",
    "using LinearAlgebra\n",
    "A=rand(1000,1000)\n",
    "@btime norm(A)\n"
   ]
  },
  {
   "cell_type": "code",
   "execution_count": 3,
   "id": "35596c1f",
   "metadata": {},
   "outputs": [
    {
     "name": "stdout",
     "output_type": "stream",
     "text": [
      "  5.696 μs (0 allocations: 0 bytes)\n"
     ]
    },
    {
     "data": {
      "text/plain": [
       "58.029788772670315"
      ]
     },
     "execution_count": 3,
     "metadata": {},
     "output_type": "execute_result"
    }
   ],
   "source": [
    "function timing_from_a_function()\n",
    "    B=rand(100,100)\n",
    "    @btime norm($B)\n",
    "end\n",
    "timing_from_a_function()"
   ]
  },
  {
   "cell_type": "code",
   "execution_count": 6,
   "id": "07b4207a",
   "metadata": {},
   "outputs": [
    {
     "data": {
      "text/plain": [
       "BenchmarkTools.Trial: 55 samples with 1 evaluation.\n",
       " Range \u001b[90m(\u001b[39m\u001b[36m\u001b[1mmin\u001b[22m\u001b[39m … \u001b[35mmax\u001b[39m\u001b[90m):  \u001b[39m\u001b[36m\u001b[1m89.029 ms\u001b[22m\u001b[39m … \u001b[35m103.549 ms\u001b[39m  \u001b[90m┊\u001b[39m GC \u001b[90m(\u001b[39mmin … max\u001b[90m): \u001b[39m0.00% … 0.00%\n",
       " Time  \u001b[90m(\u001b[39m\u001b[34m\u001b[1mmedian\u001b[22m\u001b[39m\u001b[90m):     \u001b[39m\u001b[34m\u001b[1m90.584 ms               \u001b[22m\u001b[39m\u001b[90m┊\u001b[39m GC \u001b[90m(\u001b[39mmedian\u001b[90m):    \u001b[39m0.00%\n",
       " Time  \u001b[90m(\u001b[39m\u001b[32m\u001b[1mmean\u001b[22m\u001b[39m ± \u001b[32mσ\u001b[39m\u001b[90m):   \u001b[39m\u001b[32m\u001b[1m92.201 ms\u001b[22m\u001b[39m ± \u001b[32m  3.687 ms\u001b[39m  \u001b[90m┊\u001b[39m GC \u001b[90m(\u001b[39mmean ± σ\u001b[90m):  \u001b[39m0.00% ± 0.00%\n",
       "\n",
       "  \u001b[39m█\u001b[39m█\u001b[39m▄\u001b[39m \u001b[39m \u001b[39m \u001b[34m \u001b[39m\u001b[39m \u001b[39m \u001b[39m \u001b[39m \u001b[39m \u001b[39m \u001b[39m \u001b[32m \u001b[39m\u001b[39m \u001b[39m \u001b[39m \u001b[39m \u001b[39m \u001b[39m \u001b[39m \u001b[39m \u001b[39m \u001b[39m \u001b[39m \u001b[39m \u001b[39m \u001b[39m \u001b[39m \u001b[39m \u001b[39m \u001b[39m \u001b[39m \u001b[39m \u001b[39m \u001b[39m \u001b[39m \u001b[39m \u001b[39m \u001b[39m \u001b[39m \u001b[39m \u001b[39m \u001b[39m \u001b[39m \u001b[39m \u001b[39m \u001b[39m \u001b[39m \u001b[39m \u001b[39m \u001b[39m \u001b[39m \u001b[39m \u001b[39m \u001b[39m \u001b[39m \u001b[39m \u001b[39m \u001b[39m \u001b[39m \n",
       "  \u001b[39m█\u001b[39m█\u001b[39m█\u001b[39m▄\u001b[39m▄\u001b[39m▆\u001b[34m▆\u001b[39m\u001b[39m▁\u001b[39m▆\u001b[39m▄\u001b[39m▁\u001b[39m▄\u001b[39m▆\u001b[39m▁\u001b[32m▁\u001b[39m\u001b[39m▄\u001b[39m▄\u001b[39m▄\u001b[39m▄\u001b[39m▆\u001b[39m▇\u001b[39m▄\u001b[39m▄\u001b[39m▄\u001b[39m▁\u001b[39m▁\u001b[39m▁\u001b[39m▁\u001b[39m▁\u001b[39m▁\u001b[39m▄\u001b[39m▁\u001b[39m▁\u001b[39m▄\u001b[39m▄\u001b[39m▁\u001b[39m▁\u001b[39m▄\u001b[39m▁\u001b[39m▁\u001b[39m▁\u001b[39m▁\u001b[39m▁\u001b[39m▁\u001b[39m▆\u001b[39m▁\u001b[39m▁\u001b[39m▁\u001b[39m▁\u001b[39m▁\u001b[39m▁\u001b[39m▁\u001b[39m▄\u001b[39m▁\u001b[39m▁\u001b[39m▁\u001b[39m▁\u001b[39m▁\u001b[39m▁\u001b[39m▄\u001b[39m \u001b[39m▁\n",
       "  89 ms\u001b[90m           Histogram: frequency by time\u001b[39m          103 ms \u001b[0m\u001b[1m<\u001b[22m\n",
       "\n",
       " Memory estimate\u001b[90m: \u001b[39m\u001b[33m0 bytes\u001b[39m, allocs estimate\u001b[90m: \u001b[39m\u001b[33m0\u001b[39m."
      ]
     },
     "execution_count": 6,
     "metadata": {},
     "output_type": "execute_result"
    }
   ],
   "source": [
    "A=rand(10_000,10_000)\n",
    "b=@benchmark norm($A)"
   ]
  },
  {
   "cell_type": "code",
   "execution_count": 7,
   "id": "5b0db2a0",
   "metadata": {},
   "outputs": [
    {
     "data": {
      "text/plain": [
       "55-element Vector{Float64}:\n",
       " 0.08916146400000004\n",
       " 0.08978924600000004\n",
       " 0.09197442400000004\n",
       " 0.09118237400000004\n",
       " 0.08949578300000004\n",
       " 0.08929196300000004\n",
       " 0.08934024100000004\n",
       " 0.08920199800000005\n",
       " 0.09356779900000005\n",
       " 0.09047127400000005\n",
       " 0.09034683000000004\n",
       " 0.09013849600000004\n",
       " 0.08927577500000004\n",
       " ⋮\n",
       " 0.09432841700000004\n",
       " 0.09688231000000004\n",
       " 0.09753775900000004\n",
       " 0.09923830800000005\n",
       " 0.10105189900000004\n",
       " 0.10273955900000005\n",
       " 0.09392507000000004\n",
       " 0.09599284200000005\n",
       " 0.09058364000000005\n",
       " 0.09321304500000005\n",
       " 0.10354941200000005\n",
       " 0.09929385900000005"
      ]
     },
     "execution_count": 7,
     "metadata": {},
     "output_type": "execute_result"
    }
   ],
   "source": [
    "b.times.* 10^-9"
   ]
  },
  {
   "cell_type": "code",
   "execution_count": 9,
   "id": "632eb0b2",
   "metadata": {},
   "outputs": [
    {
     "data": {
      "text/plain": [
       "BenchmarkTools.Trial: 10 samples with 1 evaluation.\n",
       " Range \u001b[90m(\u001b[39m\u001b[36m\u001b[1mmin\u001b[22m\u001b[39m … \u001b[35mmax\u001b[39m\u001b[90m):  \u001b[39m\u001b[36m\u001b[1m89.369 ms\u001b[22m\u001b[39m … \u001b[35m 90.933 ms\u001b[39m  \u001b[90m┊\u001b[39m GC \u001b[90m(\u001b[39mmin … max\u001b[90m): \u001b[39m0.00% … 0.00%\n",
       " Time  \u001b[90m(\u001b[39m\u001b[34m\u001b[1mmedian\u001b[22m\u001b[39m\u001b[90m):     \u001b[39m\u001b[34m\u001b[1m90.055 ms               \u001b[22m\u001b[39m\u001b[90m┊\u001b[39m GC \u001b[90m(\u001b[39mmedian\u001b[90m):    \u001b[39m0.00%\n",
       " Time  \u001b[90m(\u001b[39m\u001b[32m\u001b[1mmean\u001b[22m\u001b[39m ± \u001b[32mσ\u001b[39m\u001b[90m):   \u001b[39m\u001b[32m\u001b[1m90.077 ms\u001b[22m\u001b[39m ± \u001b[32m429.647 μs\u001b[39m  \u001b[90m┊\u001b[39m GC \u001b[90m(\u001b[39mmean ± σ\u001b[90m):  \u001b[39m0.00% ± 0.00%\n",
       "\n",
       "  \u001b[39m█\u001b[39m \u001b[39m \u001b[39m \u001b[39m \u001b[39m \u001b[39m \u001b[39m \u001b[39m \u001b[39m \u001b[39m \u001b[39m \u001b[39m \u001b[39m█\u001b[39m \u001b[39m \u001b[39m \u001b[39m█\u001b[39m \u001b[39m \u001b[39m \u001b[39m█\u001b[39m \u001b[39m \u001b[39m█\u001b[34m \u001b[39m\u001b[39m \u001b[32m█\u001b[39m\u001b[39m█\u001b[39m \u001b[39m \u001b[39m \u001b[39m█\u001b[39m \u001b[39m \u001b[39m \u001b[39m \u001b[39m \u001b[39m \u001b[39m \u001b[39m \u001b[39m \u001b[39m \u001b[39m \u001b[39m█\u001b[39m \u001b[39m \u001b[39m \u001b[39m \u001b[39m \u001b[39m \u001b[39m \u001b[39m \u001b[39m \u001b[39m \u001b[39m \u001b[39m \u001b[39m \u001b[39m \u001b[39m█\u001b[39m \u001b[39m \n",
       "  \u001b[39m█\u001b[39m▁\u001b[39m▁\u001b[39m▁\u001b[39m▁\u001b[39m▁\u001b[39m▁\u001b[39m▁\u001b[39m▁\u001b[39m▁\u001b[39m▁\u001b[39m▁\u001b[39m▁\u001b[39m█\u001b[39m▁\u001b[39m▁\u001b[39m▁\u001b[39m█\u001b[39m▁\u001b[39m▁\u001b[39m▁\u001b[39m█\u001b[39m▁\u001b[39m▁\u001b[39m█\u001b[34m▁\u001b[39m\u001b[39m▁\u001b[32m█\u001b[39m\u001b[39m█\u001b[39m▁\u001b[39m▁\u001b[39m▁\u001b[39m█\u001b[39m▁\u001b[39m▁\u001b[39m▁\u001b[39m▁\u001b[39m▁\u001b[39m▁\u001b[39m▁\u001b[39m▁\u001b[39m▁\u001b[39m▁\u001b[39m▁\u001b[39m█\u001b[39m▁\u001b[39m▁\u001b[39m▁\u001b[39m▁\u001b[39m▁\u001b[39m▁\u001b[39m▁\u001b[39m▁\u001b[39m▁\u001b[39m▁\u001b[39m▁\u001b[39m▁\u001b[39m▁\u001b[39m▁\u001b[39m█\u001b[39m \u001b[39m▁\n",
       "  89.4 ms\u001b[90m         Histogram: frequency by time\u001b[39m         90.9 ms \u001b[0m\u001b[1m<\u001b[22m\n",
       "\n",
       " Memory estimate\u001b[90m: \u001b[39m\u001b[33m0 bytes\u001b[39m, allocs estimate\u001b[90m: \u001b[39m\u001b[33m0\u001b[39m."
      ]
     },
     "execution_count": 9,
     "metadata": {},
     "output_type": "execute_result"
    }
   ],
   "source": [
    "b = @benchmark(norm($A), samples=10)\n"
   ]
  },
  {
   "cell_type": "code",
   "execution_count": 10,
   "id": "af2d963e",
   "metadata": {},
   "outputs": [
    {
     "data": {
      "text/plain": [
       "10-element Vector{Float64}:\n",
       " 9.0124509e7\n",
       " 8.9826402e7\n",
       " 9.0932824e7\n",
       " 9.0094845e7\n",
       " 8.9941735e7\n",
       " 9.0528045e7\n",
       " 9.0208364e7\n",
       " 9.0014307e7\n",
       " 8.9730559e7\n",
       " 8.9369461e7"
      ]
     },
     "execution_count": 10,
     "metadata": {},
     "output_type": "execute_result"
    }
   ],
   "source": [
    "b.times"
   ]
  },
  {
   "cell_type": "code",
   "execution_count": 11,
   "id": "56e92426",
   "metadata": {},
   "outputs": [
    {
     "data": {
      "text/plain": [
       "BenchmarkTools.Trial: 10000 samples with 1000 evaluations.\n",
       " Range \u001b[90m(\u001b[39m\u001b[36m\u001b[1mmin\u001b[22m\u001b[39m … \u001b[35mmax\u001b[39m\u001b[90m):  \u001b[39m\u001b[36m\u001b[1m0.069 ns\u001b[22m\u001b[39m … \u001b[35m11.472 ns\u001b[39m  \u001b[90m┊\u001b[39m GC \u001b[90m(\u001b[39mmin … max\u001b[90m): \u001b[39m0.00% … 0.00%\n",
       " Time  \u001b[90m(\u001b[39m\u001b[34m\u001b[1mmedian\u001b[22m\u001b[39m\u001b[90m):     \u001b[39m\u001b[34m\u001b[1m0.101 ns              \u001b[22m\u001b[39m\u001b[90m┊\u001b[39m GC \u001b[90m(\u001b[39mmedian\u001b[90m):    \u001b[39m0.00%\n",
       " Time  \u001b[90m(\u001b[39m\u001b[32m\u001b[1mmean\u001b[22m\u001b[39m ± \u001b[32mσ\u001b[39m\u001b[90m):   \u001b[39m\u001b[32m\u001b[1m0.114 ns\u001b[22m\u001b[39m ± \u001b[32m 0.119 ns\u001b[39m  \u001b[90m┊\u001b[39m GC \u001b[90m(\u001b[39mmean ± σ\u001b[90m):  \u001b[39m0.00% ± 0.00%\n",
       "\n",
       "  \u001b[39m \u001b[39m \u001b[39m \u001b[39m \u001b[39m█\u001b[39m \u001b[39m \u001b[39m \u001b[39m▂\u001b[39m \u001b[39m \u001b[39m \u001b[39m \u001b[39m \u001b[39m▆\u001b[34m \u001b[39m\u001b[39m \u001b[39m \u001b[39m \u001b[39m \u001b[39m \u001b[32m \u001b[39m\u001b[39m▁\u001b[39m \u001b[39m \u001b[39m \u001b[39m▃\u001b[39m \u001b[39m \u001b[39m \u001b[39m \u001b[39m \u001b[39m \u001b[39m \u001b[39m \u001b[39m \u001b[39m \u001b[39m \u001b[39m \u001b[39m \u001b[39m \u001b[39m \u001b[39m \u001b[39m \u001b[39m \u001b[39m \u001b[39m \u001b[39m \u001b[39m \u001b[39m \u001b[39m \u001b[39m \u001b[39m \u001b[39m \u001b[39m \u001b[39m \u001b[39m \u001b[39m \u001b[39m \u001b[39m \n",
       "  \u001b[39m█\u001b[39m▄\u001b[39m▃\u001b[39m▄\u001b[39m█\u001b[39m█\u001b[39m▅\u001b[39m▇\u001b[39m█\u001b[39m▅\u001b[39m▆\u001b[39m▅\u001b[39m▄\u001b[39m▃\u001b[39m█\u001b[34m▆\u001b[39m\u001b[39m▃\u001b[39m▄\u001b[39m▆\u001b[39m▅\u001b[39m▄\u001b[32m▃\u001b[39m\u001b[39m█\u001b[39m▅\u001b[39m▃\u001b[39m▄\u001b[39m█\u001b[39m▂\u001b[39m▆\u001b[39m▃\u001b[39m▂\u001b[39m▅\u001b[39m▄\u001b[39m▃\u001b[39m▂\u001b[39m▂\u001b[39m▂\u001b[39m▂\u001b[39m▂\u001b[39m▃\u001b[39m▂\u001b[39m▃\u001b[39m▂\u001b[39m▂\u001b[39m▃\u001b[39m▂\u001b[39m▅\u001b[39m▂\u001b[39m▆\u001b[39m▅\u001b[39m▁\u001b[39m▄\u001b[39m▂\u001b[39m▃\u001b[39m▁\u001b[39m▅\u001b[39m▄\u001b[39m▃\u001b[39m \u001b[39m▃\n",
       "  0.069 ns\u001b[90m       Histogram: frequency by time\u001b[39m       0.195 ns \u001b[0m\u001b[1m<\u001b[22m\n",
       "\n",
       " Memory estimate\u001b[90m: \u001b[39m\u001b[33m0 bytes\u001b[39m, allocs estimate\u001b[90m: \u001b[39m\u001b[33m0\u001b[39m."
      ]
     },
     "execution_count": 11,
     "metadata": {},
     "output_type": "execute_result"
    }
   ],
   "source": [
    "b = @benchmark 1+1"
   ]
  },
  {
   "cell_type": "code",
   "execution_count": 15,
   "id": "e0dd710a",
   "metadata": {},
   "outputs": [
    {
     "data": {
      "text/plain": [
       "BenchmarkTools.Trial: 20 samples with 1 evaluation.\n",
       " Range \u001b[90m(\u001b[39m\u001b[36m\u001b[1mmin\u001b[22m\u001b[39m … \u001b[35mmax\u001b[39m\u001b[90m):  \u001b[39m\u001b[36m\u001b[1m89.074 ms\u001b[22m\u001b[39m … \u001b[35m 90.858 ms\u001b[39m  \u001b[90m┊\u001b[39m GC \u001b[90m(\u001b[39mmin … max\u001b[90m): \u001b[39m0.00% … 0.00%\n",
       " Time  \u001b[90m(\u001b[39m\u001b[34m\u001b[1mmedian\u001b[22m\u001b[39m\u001b[90m):     \u001b[39m\u001b[34m\u001b[1m89.238 ms               \u001b[22m\u001b[39m\u001b[90m┊\u001b[39m GC \u001b[90m(\u001b[39mmedian\u001b[90m):    \u001b[39m0.00%\n",
       " Time  \u001b[90m(\u001b[39m\u001b[32m\u001b[1mmean\u001b[22m\u001b[39m ± \u001b[32mσ\u001b[39m\u001b[90m):   \u001b[39m\u001b[32m\u001b[1m89.569 ms\u001b[22m\u001b[39m ± \u001b[32m585.501 μs\u001b[39m  \u001b[90m┊\u001b[39m GC \u001b[90m(\u001b[39mmean ± σ\u001b[90m):  \u001b[39m0.00% ± 0.00%\n",
       "\n",
       "  \u001b[39m \u001b[39m \u001b[39m█\u001b[39m▃\u001b[39m \u001b[34m█\u001b[39m\u001b[39m \u001b[39m \u001b[39m \u001b[39m \u001b[39m \u001b[39m \u001b[39m \u001b[39m \u001b[39m \u001b[39m \u001b[39m \u001b[32m \u001b[39m\u001b[39m \u001b[39m \u001b[39m \u001b[39m \u001b[39m \u001b[39m \u001b[39m \u001b[39m \u001b[39m \u001b[39m \u001b[39m \u001b[39m \u001b[39m \u001b[39m \u001b[39m \u001b[39m \u001b[39m \u001b[39m \u001b[39m \u001b[39m \u001b[39m \u001b[39m \u001b[39m \u001b[39m \u001b[39m \u001b[39m \u001b[39m \u001b[39m \u001b[39m \u001b[39m \u001b[39m \u001b[39m \u001b[39m \u001b[39m \u001b[39m \u001b[39m \u001b[39m \u001b[39m \u001b[39m \u001b[39m \u001b[39m \u001b[39m \u001b[39m \u001b[39m \n",
       "  \u001b[39m▇\u001b[39m▇\u001b[39m█\u001b[39m█\u001b[39m▇\u001b[34m█\u001b[39m\u001b[39m▁\u001b[39m▁\u001b[39m▁\u001b[39m▁\u001b[39m▁\u001b[39m▇\u001b[39m▁\u001b[39m▁\u001b[39m▇\u001b[39m▁\u001b[39m▁\u001b[32m▇\u001b[39m\u001b[39m▇\u001b[39m▁\u001b[39m▇\u001b[39m▁\u001b[39m▁\u001b[39m▁\u001b[39m▁\u001b[39m▁\u001b[39m▁\u001b[39m▁\u001b[39m▁\u001b[39m▁\u001b[39m▁\u001b[39m▁\u001b[39m▁\u001b[39m▁\u001b[39m▁\u001b[39m▁\u001b[39m▁\u001b[39m▁\u001b[39m▁\u001b[39m▁\u001b[39m▁\u001b[39m▁\u001b[39m▁\u001b[39m▁\u001b[39m▁\u001b[39m▁\u001b[39m▁\u001b[39m▇\u001b[39m▁\u001b[39m▁\u001b[39m▁\u001b[39m▇\u001b[39m▁\u001b[39m▇\u001b[39m▁\u001b[39m▁\u001b[39m▁\u001b[39m▁\u001b[39m▁\u001b[39m▇\u001b[39m \u001b[39m▁\n",
       "  89.1 ms\u001b[90m         Histogram: frequency by time\u001b[39m         90.9 ms \u001b[0m\u001b[1m<\u001b[22m\n",
       "\n",
       " Memory estimate\u001b[90m: \u001b[39m\u001b[33m0 bytes\u001b[39m, allocs estimate\u001b[90m: \u001b[39m\u001b[33m0\u001b[39m."
      ]
     },
     "execution_count": 15,
     "metadata": {},
     "output_type": "execute_result"
    }
   ],
   "source": [
    "BenchmarkTools.DEFAULT_PARAMETERS.samples = 20\n",
    "b=@benchmark norm($A)"
   ]
  },
  {
   "cell_type": "code",
   "execution_count": 17,
   "id": "c13b0ba3",
   "metadata": {},
   "outputs": [
    {
     "data": {
      "text/plain": [
       "20-element Vector{Float64}:\n",
       " 8.9239001e7\n",
       " 8.9158317e7\n",
       " 9.0489517e7\n",
       " 8.9406905e7\n",
       " 9.0858458e7\n",
       " 8.9694683e7\n",
       " 8.9122652e7\n",
       " 8.9236134e7\n",
       " 8.9232798e7\n",
       " 8.9493316e7\n",
       " 9.0594294e7\n",
       " 8.9220801e7\n",
       " 8.9074271e7\n",
       " 8.9184995e7\n",
       " 8.9160342e7\n",
       " 8.9155495e7\n",
       " 9.0663134e7\n",
       " 8.917979e7\n",
       " 8.9591916e7\n",
       " 8.9624876e7"
      ]
     },
     "execution_count": 17,
     "metadata": {},
     "output_type": "execute_result"
    }
   ],
   "source": [
    "b.times"
   ]
  },
  {
   "cell_type": "code",
   "execution_count": 16,
   "id": "e7b0d0d4",
   "metadata": {},
   "outputs": [
    {
     "data": {
      "text/plain": [
       "20"
      ]
     },
     "execution_count": 16,
     "metadata": {},
     "output_type": "execute_result"
    }
   ],
   "source": [
    "length(b.times)"
   ]
  },
  {
   "cell_type": "code",
   "execution_count": 19,
   "id": "d93f45cf",
   "metadata": {},
   "outputs": [
    {
     "name": "stdin",
     "output_type": "stream",
     "text": [
      "stdin>  0\n"
     ]
    },
    {
     "name": "stdout",
     "output_type": "stream",
     "text": [
      "This puzzle is not solvable.\n",
      "+----+----+----+----+\n",
      "| 14 | 2  | 5  | 3  |\n",
      "| 6  | 10 | 7  | 11 |\n",
      "| 4  | 9  | 13 |    |\n",
      "| 15 | 8  | 12 | 1  |\n",
      "+----+----+----+----+\n",
      "Possible moves are: [\"13\", \"11\", \"1\"], 0 to exit. Your move? =>  Exiting the game...\n"
     ]
    },
    {
     "name": "stderr",
     "output_type": "stream",
     "text": [
      "WARNING: redefinition of constant puzzle. This may fail, cause incorrect answers, or produce other errors.\n"
     ]
    }
   ],
   "source": [
    "include(\"rosetta15_puzzle_game.jl\")\n",
    "puzzle15play()"
   ]
  },
  {
   "cell_type": "code",
   "execution_count": 21,
   "id": "2eb35100",
   "metadata": {},
   "outputs": [
    {
     "name": "stdout",
     "output_type": "stream",
     "text": [
      "Integer\n",
      "|___Bool\n",
      "|___Signed\n",
      "\t|___BigInt\n",
      "\t|___Int128\n",
      "\t|___Int16\n",
      "\t|___Int32\n",
      "\t|___Int64\n",
      "\t|___Int8\n",
      "|___Unsigned\n",
      "\t|___UInt128\n",
      "\t|___UInt16\n",
      "\t|___UInt32\n",
      "\t|___UInt64\n",
      "\t|___UInt8\n"
     ]
    }
   ],
   "source": [
    "function _show_subtype_tree(mytype,printlevel)\n",
    "    allsubtypes = subtypes(mytype)\n",
    "    for cursubtype in allsubtypes\n",
    "        print(\"\\t\"^printlevel)\n",
    "        println(\"|___\",cursubtype)\n",
    "        printlevel += 1\n",
    "        _show_subtype_tree(cursubtype,printlevel)\n",
    "        printlevel -= 1\n",
    "    end\n",
    "end\n",
    "function show_type_tree(T)\n",
    "    println(T)\n",
    "    _show_subtype_tree(T,0)\n",
    "end\n",
    "show_type_tree(Integer)"
   ]
  },
  {
   "cell_type": "code",
   "execution_count": 22,
   "id": "a3eacbdd",
   "metadata": {},
   "outputs": [
    {
     "name": "stdout",
     "output_type": "stream",
     "text": [
      "isconcretetype(Float64) = true\n",
      "isconcretetype(Real) = false\n"
     ]
    }
   ],
   "source": [
    "@show isconcretetype(Float64);\n",
    "@show isconcretetype(Real);"
   ]
  },
  {
   "cell_type": "code",
   "execution_count": 23,
   "id": "2af7747a",
   "metadata": {},
   "outputs": [
    {
     "name": "stdout",
     "output_type": "stream",
     "text": [
      "  54.626 μs (230 allocations: 6.48 KiB)\n",
      "  42.200 μs (5 allocations: 7.53 KiB)\n"
     ]
    }
   ],
   "source": [
    "function record_games_won(ngames)\n",
    "    games_won = []\n",
    "    for i = 1:ngames\n",
    "        r = rand()\n",
    "        if r >= 0.5\n",
    "            push!(games_won,i)\n",
    "        end\n",
    "    end\n",
    "    return games_won\n",
    "end\n",
    "function record_games_won_v2(ngames)\n",
    "    games_won = Int64[]\n",
    "    for i = 1:ngames\n",
    "        r = rand()\n",
    "        if r >= 0.5\n",
    "            push!(games_won,i)\n",
    "        end\n",
    "    end\n",
    "    return games_won\n",
    "end\n",
    "record_games_won(2);\n",
    "record_games_won_v2(2);\n",
    "\n",
    "ntrials = 1000\n",
    "@btime record_games_won(ntrials);\n",
    "@btime record_games_won_v2(ntrials);"
   ]
  },
  {
   "cell_type": "code",
   "execution_count": 24,
   "id": "1d923efd",
   "metadata": {},
   "outputs": [
    {
     "name": "stdout",
     "output_type": "stream",
     "text": [
      "typeof(h) = Vector{Any}\n",
      "typeof(g) = Vector{Int64}\n"
     ]
    },
    {
     "data": {
      "text/plain": [
       "Vector{Int64} (alias for Array{Int64, 1})"
      ]
     },
     "execution_count": 24,
     "metadata": {},
     "output_type": "execute_result"
    }
   ],
   "source": [
    "h = []\n",
    "@show typeof(h)\n",
    "g = Int64[]\n",
    "@show typeof(g)"
   ]
  },
  {
   "cell_type": "code",
   "execution_count": 26,
   "id": "777fd61b",
   "metadata": {},
   "outputs": [
    {
     "name": "stdout",
     "output_type": "stream",
     "text": [
      "  532.256 μs (4495 allocations: 83.59 KiB)\n",
      "  26.388 μs (6 allocations: 15.47 KiB)\n"
     ]
    }
   ],
   "source": [
    "allgames = rand(ntrials)\n",
    "function record_games_won_global()\n",
    "    games_won = Int64[]\n",
    "    for (curi,curgame) in enumerate(allgames)\n",
    "        if curgame >= 0.5\n",
    "            push!(games_won,curi)\n",
    "        end\n",
    "    end\n",
    "    return games_won\n",
    "end\n",
    "\n",
    "function record_games_won_local(ntrials)\n",
    "    allgames = rand(ntrials)\n",
    "    games_won = Int64[]\n",
    "    for (curi,curgame) in enumerate(allgames)\n",
    "        if curgame >= 0.5\n",
    "            push!(games_won,curi)\n",
    "        end\n",
    "    end\n",
    "    return games_won\n",
    "end\n",
    "\n",
    "record_games_won_global();\n",
    "record_games_won_local(ntrials);\n",
    "\n",
    "@btime record_games_won_global();\n",
    "@btime record_games_won_local(ntrials);"
   ]
  },
  {
   "cell_type": "code",
   "execution_count": 27,
   "id": "ffbbc22c",
   "metadata": {},
   "outputs": [
    {
     "name": "stdout",
     "output_type": "stream",
     "text": [
      "myglobalint = 2\n"
     ]
    },
    {
     "name": "stderr",
     "output_type": "stream",
     "text": [
      "WARNING: redefinition of constant myglobalint. This may fail, cause incorrect answers, or produce other errors.\n"
     ]
    },
    {
     "data": {
      "text/plain": [
       "2"
      ]
     },
     "execution_count": 27,
     "metadata": {},
     "output_type": "execute_result"
    }
   ],
   "source": [
    "const myglobalint = 1\n",
    "myglobalint = 2\n",
    "@show myglobalint"
   ]
  },
  {
   "cell_type": "code",
   "execution_count": 28,
   "id": "f32a7d1b",
   "metadata": {},
   "outputs": [
    {
     "name": "stdout",
     "output_type": "stream",
     "text": [
      "  42.176 μs (5 allocations: 7.53 KiB)\n",
      "  15.860 μs (3 allocations: 19.81 KiB)\n"
     ]
    }
   ],
   "source": [
    "function record_games_won_v2(ngames)\n",
    "    games_won = Int64[]\n",
    "    for i = 1:ngames\n",
    "        r = rand()\n",
    "        if r >= 0.5\n",
    "            push!(games_won,i)\n",
    "        end\n",
    "    end\n",
    "    return games_won\n",
    "end\n",
    "\n",
    "function record_games_won_preallocate(ntrials)\n",
    "    allgames = rand(ntrials)\n",
    "    games_won = Vector{Int64}(undef,ntrials)\n",
    "    gi = 1\n",
    "    for (curi,curgame) in enumerate(allgames)\n",
    "        if curgame >= 0.5\n",
    "            games_won[gi] = curi\n",
    "            gi += 1\n",
    "        end\n",
    "    end\n",
    "    return games_won[1:gi-1]\n",
    "end\n",
    "record_games_won_preallocate(ntrials);\n",
    "\n",
    "@btime record_games_won_v2(ntrials);\n",
    "@btime record_games_won_preallocate(ntrials);\n"
   ]
  },
  {
   "cell_type": "code",
   "execution_count": 29,
   "id": "8e4ea9c0",
   "metadata": {},
   "outputs": [
    {
     "name": "stdout",
     "output_type": "stream",
     "text": [
      "  12.916 μs (5 allocations: 14.30 KiB)\n"
     ]
    }
   ],
   "source": [
    "function record_games_won_preallocate_fused(ntrials)\n",
    "    allgames = rand(ntrials)\n",
    "    games_won = findall(allgames.>=0.5)\n",
    "    return games_won\n",
    "end\n",
    "\n",
    "record_games_won_preallocate_fused(ntrials);\n",
    "@btime record_games_won_preallocate_fused(ntrials);"
   ]
  },
  {
   "cell_type": "code",
   "execution_count": 30,
   "id": "4f6d2eae",
   "metadata": {},
   "outputs": [
    {
     "name": "stdout",
     "output_type": "stream",
     "text": [
      "  10.586 μs (6 allocations: 47.62 KiB)\n",
      "  2.048 μs (1 allocation: 7.94 KiB)\n",
      "  2.059 μs (1 allocation: 7.94 KiB)\n"
     ]
    }
   ],
   "source": [
    "f(x) = 3x.^2 + 4x + 7x.^3;\n",
    "g2(x) = 3x^2 + 4x + 7x^3;\n",
    "x = rand(1000)\n",
    "@btime f($x)\n",
    "@btime f.($x)\n",
    "@btime g2.($x)\n"
   ]
  },
  {
   "cell_type": "code",
   "execution_count": 34,
   "id": "4a843998",
   "metadata": {},
   "outputs": [
    {
     "name": "stdout",
     "output_type": "stream",
     "text": [
      "  17.128 μs (4 allocations: 31.75 KiB)\n",
      "  6.472 μs (1 allocation: 7.94 KiB)\n",
      "  12.355 μs (1 allocation: 7.94 KiB)\n"
     ]
    }
   ],
   "source": [
    "function find_hypotenuse_vectorized(b,h)\n",
    "    return sqrt.(b.^2+h.^2)\n",
    "end\n",
    "\n",
    "function find_hypotenuse_forloop(b,h)\n",
    "    accum_vec = similar(b)\n",
    "    for i = 1:length(b)\n",
    "        accum_vec[i] = sqrt(b[i]^2+h[i]^2)\n",
    "    end\n",
    "    return accum_vec\n",
    "end\n",
    "\n",
    "b = rand(ntrials)\n",
    "h = rand(ntrials)\n",
    "@btime find_hypotenuse_vectorized($b,$h);\n",
    "@btime find_hypotenuse_vectorized.($b,$h);\n",
    "@btime find_hypotenuse_forloop($b,$h);\n"
   ]
  },
  {
   "cell_type": "code",
   "execution_count": 33,
   "id": "818c0e44",
   "metadata": {},
   "outputs": [
    {
     "data": {
      "text/plain": [
       "Float64"
      ]
     },
     "execution_count": 33,
     "metadata": {},
     "output_type": "execute_result"
    }
   ],
   "source": [
    "b =rand(10)\n",
    "accum_vec = similar(b)\n",
    "eltype(b)"
   ]
  },
  {
   "cell_type": "code",
   "execution_count": 35,
   "id": "a8f004e6",
   "metadata": {},
   "outputs": [
    {
     "name": "stdout",
     "output_type": "stream",
     "text": [
      "  6.763 ms (1001 allocations: 3.96 MiB)\n",
      "  6.557 ms (2 allocations: 15.88 KiB)\n"
     ]
    }
   ],
   "source": [
    "function find_sum_of_sqrt_vectors(nvectors)\n",
    "    sumvector = Vector{Float64}(undef,nvectors)\n",
    "    for i = 1:nvectors\n",
    "        # v = sqrt.(1:i)\n",
    "        sumvector[i] = sum(sqrt.(1:i))\n",
    "    end\n",
    "    return sumvector\n",
    "end\n",
    "\n",
    "function find_sum_of_sqrt_vectors_reusemem(nvectors)\n",
    "    sumvector = Vector{Float64}(undef,nvectors)\n",
    "    v = Vector{Float64}(undef,nvectors)\n",
    "    for i = 1:nvectors\n",
    "        v[1:i] .= sqrt.(1:i)\n",
    "        sumvector[i] = sum(v)\n",
    "        v .= 0\n",
    "    end\n",
    "    return sumvector\n",
    "end\n",
    "\n",
    "@btime find_sum_of_sqrt_vectors(ntrials);\n",
    "@btime find_sum_of_sqrt_vectors_reusemem(ntrials);"
   ]
  },
  {
   "cell_type": "code",
   "execution_count": 36,
   "id": "fb6d5592",
   "metadata": {},
   "outputs": [
    {
     "name": "stdout",
     "output_type": "stream",
     "text": [
      "  7.537 μs (18 allocations: 3.05 KiB)\n",
      "  4.450 μs (3 allocations: 172 bytes)\n"
     ]
    },
    {
     "data": {
      "text/plain": [
       "3.533563009292827"
      ]
     },
     "execution_count": 36,
     "metadata": {},
     "output_type": "execute_result"
    }
   ],
   "source": [
    "using SparseArrays\n",
    "using LinearAlgebra\n",
    "A = sprand(500,500,0.1)\n",
    "function set_sum(A,rowids,colids)\n",
    "    s = sum(A[rowids,colids])\n",
    "end\n",
    "function set_sum_view(A,rowids,colids)\n",
    "    s = sum(view(A,rowids,colids))\n",
    "end\n",
    "\n",
    "using Random\n",
    "@btime set_sum(A,randperm(10), randperm(10))\n",
    "@btime set_sum_view(A,randperm(10), randperm(10))"
   ]
  },
  {
   "cell_type": "code",
   "execution_count": 37,
   "id": "e473719b",
   "metadata": {},
   "outputs": [
    {
     "name": "stdout",
     "output_type": "stream",
     "text": [
      "  1.475 ms (1002 allocations: 3.97 MiB)\n"
     ]
    }
   ],
   "source": [
    "function find_sum_of_sqrt_vectors_copies(nvectors)\n",
    "    sumvector = Vector{Float64}(undef,nvectors)\n",
    "    v = sqrt.(1:nvectors)\n",
    "    for i = 1:nvectors\n",
    "        sumvector[i] = sum(v[1:i])\n",
    "    end\n",
    "    return sumvector\n",
    "end\n",
    "@btime find_sum_of_sqrt_vectors_copies(ntrials);"
   ]
  },
  {
   "cell_type": "code",
   "execution_count": 38,
   "id": "d41ec79c",
   "metadata": {},
   "outputs": [
    {
     "name": "stdout",
     "output_type": "stream",
     "text": [
      "  237.134 μs (2 allocations: 15.88 KiB)\n"
     ]
    }
   ],
   "source": [
    "function find_sum_of_sqrt_vectors_views(nvectors)\n",
    "    sumvector = Vector{Float64}(undef,nvectors)\n",
    "    v = sqrt.(1:nvectors)\n",
    "    for i = 1:nvectors\n",
    "        sumvector[i] = sum(@view v[1:i])\n",
    "    end\n",
    "    return sumvector\n",
    "end\n",
    "@btime find_sum_of_sqrt_vectors_views(ntrials);"
   ]
  },
  {
   "cell_type": "code",
   "execution_count": 39,
   "id": "89b9deab",
   "metadata": {},
   "outputs": [
    {
     "name": "stdout",
     "output_type": "stream",
     "text": [
      "  17.676 μs (4 allocations: 31.75 KiB)\n",
      "  7.978 μs (3 allocations: 7.96 KiB)\n",
      "  12.526 μs (1 allocation: 7.94 KiB)\n",
      "  11.820 μs (0 allocations: 0 bytes)\n"
     ]
    }
   ],
   "source": [
    "function find_hypotenuse_vectorized(b,h)\n",
    "    return sqrt.(b.^2+h.^2)\n",
    "end\n",
    "\n",
    "function find_hypotenuse_inplaceb!(b,h)\n",
    "    for i = 1:length(b)\n",
    "        b[i] = sqrt(b[i]^2+h[i]^2)\n",
    "    end\n",
    "end\n",
    "\n",
    "b = rand(ntrials)\n",
    "h = rand(ntrials)\n",
    "@btime find_hypotenuse_vectorized(b,h);\n",
    "@btime find_hypotenuse_vectorized.(b,h);\n",
    "@btime find_hypotenuse_forloop(b,h);\n",
    "@btime find_hypotenuse_inplaceb!(b,h);"
   ]
  },
  {
   "cell_type": "code",
   "execution_count": 40,
   "id": "105fc2ac",
   "metadata": {},
   "outputs": [
    {
     "name": "stdout",
     "output_type": "stream",
     "text": [
      "i = 0.3265357096933008\n",
      "i = 0.9295792669197825\n",
      "i = 0.30548793897673554\n",
      "i = 0.45279219865686093\n",
      "i = 0.6043480609051611\n",
      "i = 0.9160470085302701\n",
      "i = 0.22400930677841147\n",
      "i = 0.42056395350138964\n",
      "i = 0.7730078008957777\n",
      "i = 0.7693974217390728\n"
     ]
    }
   ],
   "source": [
    "v = rand(10)\n",
    "for i in v\n",
    "    @show i\n",
    "end"
   ]
  },
  {
   "cell_type": "code",
   "execution_count": 41,
   "id": "1e61dedd",
   "metadata": {},
   "outputs": [
    {
     "data": {
      "text/plain": [
       "myfib (generic function with 1 method)"
      ]
     },
     "execution_count": 41,
     "metadata": {},
     "output_type": "execute_result"
    }
   ],
   "source": [
    "struct fib_iterator\n",
    "    n::Int\n",
    "end\n",
    "\n",
    "function Base.iterate(f::fib_iterator,state=(0,0,1))\n",
    "    prev1,prev2,stepid = state\n",
    "    # state the ending conditions first\n",
    "    if stepid == 1\n",
    "        return (1,(0,1,2))\n",
    "    end\n",
    "    if f.n < stepid\n",
    "        return nothing\n",
    "    end\n",
    "    # else\n",
    "    y = prev1+prev2\n",
    "    stepid += 1\n",
    "    return (y,(prev2,y,stepid))\n",
    "end\n",
    "\n",
    "function myfib(n)\n",
    "    v = zeros(Int,n+1)\n",
    "    v[1] = 1\n",
    "    v[2] = 1\n",
    "    for i = 3:n+1\n",
    "        v[i] = v[i-1] + v[i-2]\n",
    "    end\n",
    "    return v\n",
    "end"
   ]
  },
  {
   "cell_type": "code",
   "execution_count": 44,
   "id": "9bbcc67e",
   "metadata": {},
   "outputs": [
    {
     "name": "stdout",
     "output_type": "stream",
     "text": [
      "  20.125 ns (0 allocations: 0 bytes)\n",
      "  253.268 ns (2 allocations: 160 bytes)\n"
     ]
    }
   ],
   "source": [
    "function test_iterator(n)\n",
    "    f = fib_iterator(n)\n",
    "    s = 0\n",
    "    for i in f\n",
    "        s += i\n",
    "    end\n",
    "end\n",
    "function test_allocate(n)\n",
    "    s = 0\n",
    "    v = myfib(n)\n",
    "    for i in myfib(n)\n",
    "        s += i\n",
    "    end\n",
    "end\n",
    "    \n",
    "@btime test_iterator(10);\n",
    "@btime test_allocate(10);"
   ]
  },
  {
   "cell_type": "code",
   "execution_count": 7,
   "id": "7459338b",
   "metadata": {},
   "outputs": [
    {
     "name": "stdout",
     "output_type": "stream",
     "text": [
      "  177.569 ms (1 allocation: 12 bytes)\n",
      "  19.093 ms (1 allocation: 12 bytes)\n",
      "  177.665 ms (0 allocations: 0 bytes)\n"
     ]
    },
    {
     "data": {
      "text/plain": [
       "5.000393833871262e6"
      ]
     },
     "execution_count": 7,
     "metadata": {},
     "output_type": "execute_result"
    }
   ],
   "source": [
    "m = ntrials = 1000\n",
    "n = 10000\n",
    "A = rand(m,n)\n",
    "\n",
    "function matrix_sum_rows(A)\n",
    "    m,n = size(A)\n",
    "    mysum = 0\n",
    "    for i = 1:m # fix a row\n",
    "        for j = 1:n # loop over cols\n",
    "            mysum += A[i,j]\n",
    "        end\n",
    "    end\n",
    "    return mysum\n",
    "end\n",
    "function matrix_sum_cols(A)\n",
    "    m,n = size(A)\n",
    "    mysum = 0\n",
    "    for j = 1:n # fix a column\n",
    "        for i = 1:m # loop over rows\n",
    "            mysum += A[i,j]\n",
    "        end\n",
    "    end\n",
    "    return mysum\n",
    "end\n",
    "function matrix_sum_index(A)\n",
    "    m,n = size(A)\n",
    "    mysum = 0\n",
    "    for i = 1:m*n\n",
    "        mysum += A[i]\n",
    "    end\n",
    "    return mysum\n",
    "end\n",
    "@btime matrix_sum_rows($A)\n",
    "@btime matrix_sum_cols($A)\n",
    "@btime matrix_sum_rows($A)\n"
   ]
  },
  {
   "cell_type": "code",
   "execution_count": 10,
   "id": "5e1e6a63",
   "metadata": {},
   "outputs": [
    {
     "name": "stdout",
     "output_type": "stream",
     "text": [
      "MethodInstance for zero_or_val_stable(::Float64)\n",
      "  from zero_or_val_stable(x) in Main at In[10]:1\n",
      "Arguments\n",
      "  #self#\u001b[36m::Core.Const(zero_or_val_stable)\u001b[39m\n",
      "  x\u001b[36m::Float64\u001b[39m\n",
      "Body\u001b[36m::Float64\u001b[39m\n",
      "\u001b[90m1 ─\u001b[39m %1 = (x >= 0)\u001b[36m::Bool\u001b[39m\n",
      "\u001b[90m└──\u001b[39m      goto #3 if not %1\n",
      "\u001b[90m2 ─\u001b[39m      return x\n",
      "\u001b[90m3 ─\u001b[39m %4 = Main.typeof(x)\u001b[36m::Core.Const(Float64)\u001b[39m\n",
      "\u001b[90m│  \u001b[39m %5 = Main.zero(%4)\u001b[36m::Core.Const(0.0)\u001b[39m\n",
      "\u001b[90m└──\u001b[39m      return %5\n",
      "\n"
     ]
    },
    {
     "data": {
      "text/plain": [
       "zero_or_val (generic function with 1 method)"
      ]
     },
     "execution_count": 10,
     "metadata": {},
     "output_type": "execute_result"
    }
   ],
   "source": [
    "function zero_or_val_stable(x)\n",
    "    if x >= 0\n",
    "        return x\n",
    "    else\n",
    "        return zero(typeof(x)) \n",
    "    end\n",
    "end\n",
    "@code_warntype zero_or_val_stable(0.2)\n",
    "\n",
    "function zero_or_val(x)\n",
    "    if x >= 0\n",
    "        return x\n",
    "    else\n",
    "        return 0\n",
    "    end\n",
    "end\n",
    "@code_warntype zero_or_val(0.2)"
   ]
  },
  {
   "cell_type": "code",
   "execution_count": 11,
   "id": "4ef1fc35",
   "metadata": {},
   "outputs": [
    {
     "data": {
      "text/plain": [
       "square_plus_one (generic function with 1 method)"
      ]
     },
     "execution_count": 11,
     "metadata": {},
     "output_type": "execute_result"
    }
   ],
   "source": [
    "function square_plus_one(v::T) where T <:Number\n",
    "    g = v*v\n",
    "    return g+1\n",
    "end"
   ]
  },
  {
   "cell_type": "code",
   "execution_count": 12,
   "id": "7af369ea",
   "metadata": {},
   "outputs": [
    {
     "data": {
      "text/plain": [
       "Float64"
      ]
     },
     "execution_count": 12,
     "metadata": {},
     "output_type": "execute_result"
    }
   ],
   "source": [
    "v = rand()\n",
    "typeof(v)"
   ]
  },
  {
   "cell_type": "code",
   "execution_count": 13,
   "id": "a5a7ebfc",
   "metadata": {},
   "outputs": [
    {
     "name": "stdout",
     "output_type": "stream",
     "text": [
      "MethodInstance for square_plus_one(::Float64)\n",
      "  from square_plus_one(v::T) where T<:Number in Main at In[11]:1\n",
      "Static Parameters\n",
      "  T = \u001b[36mFloat64\u001b[39m\n",
      "Arguments\n",
      "  #self#\u001b[36m::Core.Const(square_plus_one)\u001b[39m\n",
      "  v\u001b[36m::Float64\u001b[39m\n",
      "Locals\n",
      "  g\u001b[36m::Float64\u001b[39m\n",
      "Body\u001b[36m::Float64\u001b[39m\n",
      "\u001b[90m1 ─\u001b[39m      (g = v * v)\n",
      "\u001b[90m│  \u001b[39m %2 = (g + 1)\u001b[36m::Float64\u001b[39m\n",
      "\u001b[90m└──\u001b[39m      return %2\n",
      "\n"
     ]
    }
   ],
   "source": [
    "@code_warntype square_plus_one(v)"
   ]
  },
  {
   "cell_type": "code",
   "execution_count": 17,
   "id": "8d1ce28b",
   "metadata": {},
   "outputs": [
    {
     "data": {
      "text/plain": [
       "Int32"
      ]
     },
     "execution_count": 17,
     "metadata": {},
     "output_type": "execute_result"
    }
   ],
   "source": [
    "w = 5\n",
    "typeof(w)"
   ]
  },
  {
   "cell_type": "code",
   "execution_count": 14,
   "id": "14120966",
   "metadata": {},
   "outputs": [
    {
     "name": "stdout",
     "output_type": "stream",
     "text": [
      "MethodInstance for myfunction(::Float64)\n",
      "  from myfunction(i) in Main at In[14]:1\n",
      "Arguments\n",
      "  #self#\u001b[36m::Core.Const(myfunction)\u001b[39m\n",
      "  i\u001b[36m::Float64\u001b[39m\n",
      "Body\u001b[36m::Float64\u001b[39m\n",
      "\u001b[90m1 ─\u001b[39m %1 = (i % 2)\u001b[36m::Float64\u001b[39m\n",
      "\u001b[90m│  \u001b[39m %2 = (%1 == 0)\u001b[36m::Bool\u001b[39m\n",
      "\u001b[90m└──\u001b[39m      goto #3 if not %2\n",
      "\u001b[90m2 ─\u001b[39m %4 = (i / 2)\u001b[36m::Float64\u001b[39m\n",
      "\u001b[90m└──\u001b[39m      return %4\n",
      "\u001b[90m3 ─\u001b[39m %6 = (3 * i)\u001b[36m::Float64\u001b[39m\n",
      "\u001b[90m│  \u001b[39m %7 = (%6 + 1)\u001b[36m::Float64\u001b[39m\n",
      "\u001b[90m└──\u001b[39m      return %7\n",
      "\n"
     ]
    }
   ],
   "source": [
    "function myfunction(i)\n",
    "    if i%2==0\n",
    "        i/2\n",
    "    else\n",
    "        3*i+1\n",
    "    end\n",
    "end\n",
    "@code_warntype myfunction(2.2)"
   ]
  },
  {
   "cell_type": "code",
   "execution_count": 18,
   "id": "a9446cac",
   "metadata": {},
   "outputs": [
    {
     "data": {
      "text/plain": [
       "zero_or_val_stable_convert (generic function with 1 method)"
      ]
     },
     "execution_count": 18,
     "metadata": {},
     "output_type": "execute_result"
    }
   ],
   "source": [
    "function zero_or_val_stable_promote(x)\n",
    "    T = promote_type(typeof(x),Int)\n",
    "    if x >= 0\n",
    "        return T(x)\n",
    "    else\n",
    "        return T(0)\n",
    "    end\n",
    "end\n",
    "\n",
    "function zero_or_val_stable_annotate(x)\n",
    "    if x >= 0\n",
    "        return x\n",
    "    else\n",
    "        return 0::typeof(x)\n",
    "    end\n",
    "end\n",
    "\n",
    "function zero_or_val_stable_T(x::T) where T<:Real\n",
    "    if x >= 0\n",
    "        return x\n",
    "    else\n",
    "        return T(x)\n",
    "    end\n",
    "end\n",
    "\n",
    "function zero_or_val_stable_zeroT(x)\n",
    "    if x >= 0\n",
    "        return x\n",
    "    else\n",
    "        return zero(typeof(x))\n",
    "    end\n",
    "end\n",
    "\n",
    "function zero_or_val_stable_zerox(x)\n",
    "    if x >= 0\n",
    "        return x\n",
    "    else\n",
    "        return zero(x)\n",
    "    end\n",
    "end\n",
    "\n",
    "function zero_or_val_stable_convert(x)\n",
    "    if x >= 0\n",
    "        return x\n",
    "    else\n",
    "        return convert(typeof(x),0)\n",
    "    end\n",
    "end\n"
   ]
  },
  {
   "cell_type": "code",
   "execution_count": 21,
   "id": "aa2be855",
   "metadata": {},
   "outputs": [
    {
     "name": "stdout",
     "output_type": "stream",
     "text": [
      "w = 5\n",
      "MethodInstance for zero_or_val_stable_annotate(::Int32)\n",
      "  from zero_or_val_stable_annotate(x) in Main at In[18]:10\n",
      "Arguments\n",
      "  #self#\u001b[36m::Core.Const(zero_or_val_stable_annotate)\u001b[39m\n",
      "  x\u001b[36m::Int32\u001b[39m\n",
      "Body\u001b[36m::Int32\u001b[39m\n",
      "\u001b[90m1 ─\u001b[39m %1 = (x >= 0)\u001b[36m::Bool\u001b[39m\n",
      "\u001b[90m└──\u001b[39m      goto #3 if not %1\n",
      "\u001b[90m2 ─\u001b[39m      return x\n",
      "\u001b[90m3 ─\u001b[39m %4 = Main.typeof(x)\u001b[36m::Core.Const(Int32)\u001b[39m\n",
      "\u001b[90m│  \u001b[39m %5 = Core.typeassert(0, %4)\u001b[36m::Core.Const(0)\u001b[39m\n",
      "\u001b[90m└──\u001b[39m      return %5\n",
      "\n"
     ]
    }
   ],
   "source": [
    "@show w\n",
    "@code_warntype zero_or_val_stable_annotate(w)"
   ]
  },
  {
   "cell_type": "code",
   "execution_count": 22,
   "id": "0b9a264a",
   "metadata": {},
   "outputs": [
    {
     "name": "stdout",
     "output_type": "stream",
     "text": [
      "MethodInstance for matrix_sum_index(::Matrix{Float64})\n",
      "  from matrix_sum_index(A::Matrix{T}) where T in Main at In[22]:1\n",
      "Static Parameters\n",
      "  T = \u001b[36mFloat64\u001b[39m\n",
      "Arguments\n",
      "  #self#\u001b[36m::Core.Const(matrix_sum_index)\u001b[39m\n",
      "  A\u001b[36m::Matrix{Float64}\u001b[39m\n",
      "Locals\n",
      "  @_3\u001b[33m\u001b[1m::Union{Nothing, Tuple{Int32, Int32}}\u001b[22m\u001b[39m\n",
      "  @_4\u001b[36m::Int32\u001b[39m\n",
      "  mysum\u001b[91m\u001b[1m::Union{Float64, Int32}\u001b[22m\u001b[39m\n",
      "  n\u001b[36m::Int32\u001b[39m\n",
      "  m\u001b[36m::Int32\u001b[39m\n",
      "  i\u001b[36m::Int32\u001b[39m\n",
      "Body\u001b[91m\u001b[1m::Union{Float64, Int32}\u001b[22m\u001b[39m\n",
      "\u001b[90m1 ─\u001b[39m %1  = Main.size(A)\u001b[36m::Tuple{Int32, Int32}\u001b[39m\n",
      "\u001b[90m│  \u001b[39m %2  = Base.indexed_iterate(%1, 1)\u001b[36m::Core.PartialStruct(Tuple{Int32, Int32}, Any[Int32, Core.Const(2)])\u001b[39m\n",
      "\u001b[90m│  \u001b[39m       (m = Core.getfield(%2, 1))\n",
      "\u001b[90m│  \u001b[39m       (@_4 = Core.getfield(%2, 2))\n",
      "\u001b[90m│  \u001b[39m %5  = Base.indexed_iterate(%1, 2, @_4::Core.Const(2))\u001b[36m::Core.PartialStruct(Tuple{Int32, Int32}, Any[Int32, Core.Const(3)])\u001b[39m\n",
      "\u001b[90m│  \u001b[39m       (n = Core.getfield(%5, 1))\n",
      "\u001b[90m│  \u001b[39m       (mysum = 0)\n",
      "\u001b[90m│  \u001b[39m %8  = (m * n)\u001b[36m::Int32\u001b[39m\n",
      "\u001b[90m│  \u001b[39m %9  = (1:%8)\u001b[36m::Core.PartialStruct(UnitRange{Int32}, Any[Core.Const(1), Int32])\u001b[39m\n",
      "\u001b[90m│  \u001b[39m       (@_3 = Base.iterate(%9))\n",
      "\u001b[90m│  \u001b[39m %11 = (@_3 === nothing)\u001b[36m::Bool\u001b[39m\n",
      "\u001b[90m│  \u001b[39m %12 = Base.not_int(%11)\u001b[36m::Bool\u001b[39m\n",
      "\u001b[90m└──\u001b[39m       goto #4 if not %12\n",
      "\u001b[90m2 ┄\u001b[39m %14 = @_3\u001b[36m::Tuple{Int32, Int32}\u001b[39m\n",
      "\u001b[90m│  \u001b[39m       (i = Core.getfield(%14, 1))\n",
      "\u001b[90m│  \u001b[39m %16 = Core.getfield(%14, 2)\u001b[36m::Int32\u001b[39m\n",
      "\u001b[90m│  \u001b[39m %17 = mysum\u001b[91m\u001b[1m::Union{Float64, Int32}\u001b[22m\u001b[39m\n",
      "\u001b[90m│  \u001b[39m %18 = Base.getindex(A, i)\u001b[36m::Float64\u001b[39m\n",
      "\u001b[90m│  \u001b[39m       (mysum = %17 + %18)\n",
      "\u001b[90m│  \u001b[39m       (@_3 = Base.iterate(%9, %16))\n",
      "\u001b[90m│  \u001b[39m %21 = (@_3 === nothing)\u001b[36m::Bool\u001b[39m\n",
      "\u001b[90m│  \u001b[39m %22 = Base.not_int(%21)\u001b[36m::Bool\u001b[39m\n",
      "\u001b[90m└──\u001b[39m       goto #4 if not %22\n",
      "\u001b[90m3 ─\u001b[39m       goto #2\n",
      "\u001b[90m4 ┄\u001b[39m       return mysum\n",
      "\n"
     ]
    }
   ],
   "source": [
    "function matrix_sum_index(A::Array{T,2}) where T\n",
    "    m,n = size(A)\n",
    "    mysum = 0\n",
    "    for i = 1:m*n\n",
    "        mysum += A[i]\n",
    "    end\n",
    "    return mysum\n",
    "end\n",
    "\n",
    "A = rand(10,10)\n",
    "@code_warntype matrix_sum_index(A)"
   ]
  },
  {
   "cell_type": "code",
   "execution_count": 23,
   "id": "47e2a244",
   "metadata": {},
   "outputs": [
    {
     "name": "stdout",
     "output_type": "stream",
     "text": [
      "MethodInstance for matrix_sum_index(::Matrix{Float64})\n",
      "  from matrix_sum_index(A::Matrix{T}) where T in Main at In[23]:1\n",
      "Static Parameters\n",
      "  T = \u001b[36mFloat64\u001b[39m\n",
      "Arguments\n",
      "  #self#\u001b[36m::Core.Const(matrix_sum_index)\u001b[39m\n",
      "  A\u001b[36m::Matrix{Float64}\u001b[39m\n",
      "Locals\n",
      "  @_3\u001b[33m\u001b[1m::Union{Nothing, Tuple{Int32, Int32}}\u001b[22m\u001b[39m\n",
      "  @_4\u001b[36m::Int32\u001b[39m\n",
      "  mysum\u001b[36m::Float64\u001b[39m\n",
      "  n\u001b[36m::Int32\u001b[39m\n",
      "  m\u001b[36m::Int32\u001b[39m\n",
      "  i\u001b[36m::Int32\u001b[39m\n",
      "Body\u001b[36m::Float64\u001b[39m\n",
      "\u001b[90m1 ─\u001b[39m %1  = Main.size(A)\u001b[36m::Tuple{Int32, Int32}\u001b[39m\n",
      "\u001b[90m│  \u001b[39m %2  = Base.indexed_iterate(%1, 1)\u001b[36m::Core.PartialStruct(Tuple{Int32, Int32}, Any[Int32, Core.Const(2)])\u001b[39m\n",
      "\u001b[90m│  \u001b[39m       (m = Core.getfield(%2, 1))\n",
      "\u001b[90m│  \u001b[39m       (@_4 = Core.getfield(%2, 2))\n",
      "\u001b[90m│  \u001b[39m %5  = Base.indexed_iterate(%1, 2, @_4::Core.Const(2))\u001b[36m::Core.PartialStruct(Tuple{Int32, Int32}, Any[Int32, Core.Const(3)])\u001b[39m\n",
      "\u001b[90m│  \u001b[39m       (n = Core.getfield(%5, 1))\n",
      "\u001b[90m│  \u001b[39m       (mysum = ($(Expr(:static_parameter, 1)))(0))\n",
      "\u001b[90m│  \u001b[39m %8  = Main.eachindex(A)\u001b[36m::Base.OneTo{Int32}\u001b[39m\n",
      "\u001b[90m│  \u001b[39m       (@_3 = Base.iterate(%8))\n",
      "\u001b[90m│  \u001b[39m %10 = (@_3 === nothing)\u001b[36m::Bool\u001b[39m\n",
      "\u001b[90m│  \u001b[39m %11 = Base.not_int(%10)\u001b[36m::Bool\u001b[39m\n",
      "\u001b[90m└──\u001b[39m       goto #4 if not %11\n",
      "\u001b[90m2 ┄\u001b[39m %13 = @_3\u001b[36m::Tuple{Int32, Int32}\u001b[39m\n",
      "\u001b[90m│  \u001b[39m       (i = Core.getfield(%13, 1))\n",
      "\u001b[90m│  \u001b[39m %15 = Core.getfield(%13, 2)\u001b[36m::Int32\u001b[39m\n",
      "\u001b[90m│  \u001b[39m %16 = mysum\u001b[36m::Float64\u001b[39m\n",
      "\u001b[90m│  \u001b[39m %17 = Base.getindex(A, i)\u001b[36m::Float64\u001b[39m\n",
      "\u001b[90m│  \u001b[39m       (mysum = %16 + %17)\n",
      "\u001b[90m│  \u001b[39m       (@_3 = Base.iterate(%8, %15))\n",
      "\u001b[90m│  \u001b[39m %20 = (@_3 === nothing)\u001b[36m::Bool\u001b[39m\n",
      "\u001b[90m│  \u001b[39m %21 = Base.not_int(%20)\u001b[36m::Bool\u001b[39m\n",
      "\u001b[90m└──\u001b[39m       goto #4 if not %21\n",
      "\u001b[90m3 ─\u001b[39m       goto #2\n",
      "\u001b[90m4 ┄\u001b[39m       return mysum\n",
      "\n"
     ]
    }
   ],
   "source": [
    "function matrix_sum_index(A::Array{T,2}) where T\n",
    "    m,n = size(A)\n",
    "    mysum = T(0) # or eltype(A)\n",
    "    for i in eachindex(A)\n",
    "        mysum += A[i]\n",
    "    end\n",
    "    return mysum\n",
    "end\n",
    "A = rand(10,10)\n",
    "@code_warntype matrix_sum_index(A)"
   ]
  },
  {
   "cell_type": "code",
   "execution_count": 24,
   "id": "74ab0950",
   "metadata": {},
   "outputs": [
    {
     "name": "stdout",
     "output_type": "stream",
     "text": [
      "volume(c1) == volume(c2) == volume(c3) = true\n",
      "  98.969 ns (1 allocation: 12 bytes)\n",
      "  96.884 ns (1 allocation: 12 bytes)\n",
      "  77.482 ns (1 allocation: 12 bytes)\n"
     ]
    },
    {
     "data": {
      "text/plain": [
       "1.7160000000000002"
      ]
     },
     "execution_count": 24,
     "metadata": {},
     "output_type": "execute_result"
    }
   ],
   "source": [
    "mutable struct oneCube\n",
    "    length\n",
    "    width\n",
    "    height\n",
    "end\n",
    "volume(c::oneCube) = c.length*c.width*c.height\n",
    "\n",
    "mutable struct oneCube_Real\n",
    "    length::Real\n",
    "    width::Real\n",
    "    height::Real\n",
    "end\n",
    "volume(c::oneCube_Real) = c.length*c.width*c.height\n",
    "\n",
    "mutable struct oneCube_parametric_typed{T <: Real}\n",
    "    length::T\n",
    "    width::T\n",
    "    height::T\n",
    "end\n",
    "volume(c::oneCube_parametric_typed) = c.length*c.width*c.height\n",
    "\n",
    "c1 = oneCube(1.1,1.2,1.3)\n",
    "c2 = oneCube_Real(1.1,1.2,1.3)\n",
    "c3 = oneCube_parametric_typed(1.1,1.2,1.3)\n",
    "@show volume(c1) == volume(c2) == volume(c3)\n",
    "\n",
    "\n",
    "@btime volume(c1) # not typed\n",
    "@btime volume(c2) # typed float\n",
    "@btime volume(c3) # typed parametric"
   ]
  },
  {
   "cell_type": "code",
   "execution_count": 25,
   "id": "f801bd8f",
   "metadata": {},
   "outputs": [
    {
     "name": "stdout",
     "output_type": "stream",
     "text": [
      "typeof(c1) = oneCube\n",
      "typeof(c2) = oneCube_Real\n",
      "typeof(c3) = oneCube_parametric_typed{Float64}\n"
     ]
    },
    {
     "data": {
      "text/plain": [
       "oneCube_parametric_typed{Float64}"
      ]
     },
     "execution_count": 25,
     "metadata": {},
     "output_type": "execute_result"
    }
   ],
   "source": [
    "@show typeof(c1)\n",
    "@show typeof(c2)\n",
    "@show typeof(c3)"
   ]
  },
  {
   "cell_type": "code",
   "execution_count": 26,
   "id": "361f3763",
   "metadata": {},
   "outputs": [
    {
     "data": {
      "text/plain": [
       "Int32"
      ]
     },
     "execution_count": 26,
     "metadata": {},
     "output_type": "execute_result"
    }
   ],
   "source": [
    "c2.height = 1\n",
    "typeof(c2.height)"
   ]
  },
  {
   "cell_type": "code",
   "execution_count": 27,
   "id": "7809fd58",
   "metadata": {},
   "outputs": [
    {
     "data": {
      "text/plain": [
       "Float64"
      ]
     },
     "execution_count": 27,
     "metadata": {},
     "output_type": "execute_result"
    }
   ],
   "source": [
    "c3.height = 1\n",
    "typeof(c3.height)"
   ]
  },
  {
   "cell_type": "code",
   "execution_count": 28,
   "id": "9ebaa7d9",
   "metadata": {},
   "outputs": [
    {
     "name": "stdout",
     "output_type": "stream",
     "text": [
      "MethodInstance for volume(::oneCube)\n",
      "  from volume(c::oneCube) in Main at In[24]:6\n",
      "Arguments\n",
      "  #self#\u001b[36m::Core.Const(volume)\u001b[39m\n",
      "  c\u001b[36m::oneCube\u001b[39m\n",
      "Body\u001b[91m\u001b[1m::Any\u001b[22m\u001b[39m\n",
      "\u001b[90m1 ─\u001b[39m %1 = Base.getproperty(c, :length)\u001b[91m\u001b[1m::Any\u001b[22m\u001b[39m\n",
      "\u001b[90m│  \u001b[39m %2 = Base.getproperty(c, :width)\u001b[91m\u001b[1m::Any\u001b[22m\u001b[39m\n",
      "\u001b[90m│  \u001b[39m %3 = Base.getproperty(c, :height)\u001b[91m\u001b[1m::Any\u001b[22m\u001b[39m\n",
      "\u001b[90m│  \u001b[39m %4 = (%1 * %2 * %3)\u001b[91m\u001b[1m::Any\u001b[22m\u001b[39m\n",
      "\u001b[90m└──\u001b[39m      return %4\n",
      "\n",
      "MethodInstance for volume(::oneCube_Real)\n",
      "  from volume(c::oneCube_Real) in Main at In[24]:13\n",
      "Arguments\n",
      "  #self#\u001b[36m::Core.Const(volume)\u001b[39m\n",
      "  c\u001b[36m::oneCube_Real\u001b[39m\n",
      "Body\u001b[91m\u001b[1m::Any\u001b[22m\u001b[39m\n",
      "\u001b[90m1 ─\u001b[39m %1 = Base.getproperty(c, :length)\u001b[91m\u001b[1m::Real\u001b[22m\u001b[39m\n",
      "\u001b[90m│  \u001b[39m %2 = Base.getproperty(c, :width)\u001b[91m\u001b[1m::Real\u001b[22m\u001b[39m\n",
      "\u001b[90m│  \u001b[39m %3 = Base.getproperty(c, :height)\u001b[91m\u001b[1m::Real\u001b[22m\u001b[39m\n",
      "\u001b[90m│  \u001b[39m %4 = (%1 * %2 * %3)\u001b[91m\u001b[1m::Any\u001b[22m\u001b[39m\n",
      "\u001b[90m└──\u001b[39m      return %4\n",
      "\n",
      "MethodInstance for volume(::oneCube_parametric_typed{Float64})\n",
      "  from volume(c::oneCube_parametric_typed) in Main at In[24]:20\n",
      "Arguments\n",
      "  #self#\u001b[36m::Core.Const(volume)\u001b[39m\n",
      "  c\u001b[36m::oneCube_parametric_typed{Float64}\u001b[39m\n",
      "Body\u001b[36m::Float64\u001b[39m\n",
      "\u001b[90m1 ─\u001b[39m %1 = Base.getproperty(c, :length)\u001b[36m::Float64\u001b[39m\n",
      "\u001b[90m│  \u001b[39m %2 = Base.getproperty(c, :width)\u001b[36m::Float64\u001b[39m\n",
      "\u001b[90m│  \u001b[39m %3 = Base.getproperty(c, :height)\u001b[36m::Float64\u001b[39m\n",
      "\u001b[90m│  \u001b[39m %4 = (%1 * %2 * %3)\u001b[36m::Float64\u001b[39m\n",
      "\u001b[90m└──\u001b[39m      return %4\n",
      "\n"
     ]
    }
   ],
   "source": [
    "@code_warntype volume(c1)\n",
    "@code_warntype volume(c2)\n",
    "@code_warntype volume(c3)"
   ]
  },
  {
   "cell_type": "code",
   "execution_count": 29,
   "id": "9037185d",
   "metadata": {},
   "outputs": [
    {
     "data": {
      "text/plain": [
       "(0.498, 0.755, 0.244)"
      ]
     },
     "execution_count": 29,
     "metadata": {},
     "output_type": "execute_result"
    }
   ],
   "source": [
    "function fmedian(n)\n",
    "    v = zeros(Int64,n)\n",
    "    for i = 1:n\n",
    "        rand() >= 0.5 ? v[i] = 1 : nothing\n",
    "    end\n",
    "    return v\n",
    "end\n",
    "\n",
    "function fquarter(n)\n",
    "    v = zeros(Int64,n)\n",
    "    for i = 1:n\n",
    "        rand() >= 0.25 ? v[i] = 1 : nothing\n",
    "    end\n",
    "    return v\n",
    "end\n",
    "\n",
    "function f3quarters(n)\n",
    "    v = zeros(Int64,n)\n",
    "    for i = 1:n\n",
    "        rand() >= 0.75 ? v[i] = 1 : nothing\n",
    "    end\n",
    "    return v\n",
    "end\n",
    "\n",
    "function statistical_distribution(n)\n",
    "    f1 = mean(fmedian(n))\n",
    "    f2 = mean(fquarter(n))\n",
    "    f3 = mean(f3quarters(n))\n",
    "    return f1,f2,f3\n",
    "end\n",
    "\n",
    "statistical_distribution(1000)"
   ]
  },
  {
   "cell_type": "code",
   "execution_count": 30,
   "id": "ffe381c0",
   "metadata": {},
   "outputs": [
    {
     "data": {
      "text/plain": [
       "(0.499, 0.742, 0.242)"
      ]
     },
     "execution_count": 30,
     "metadata": {},
     "output_type": "execute_result"
    }
   ],
   "source": [
    "function fmedian!(v,n)\n",
    "    for i = 1:n\n",
    "        rand() >= 0.5 ? v[i] = 1 : nothing\n",
    "    end\n",
    "    return v\n",
    "end\n",
    "\n",
    "function fquarter!(v,n)\n",
    "    for i = 1:n\n",
    "        rand() >= 0.25 ? v[i] = 1 : nothing\n",
    "    end\n",
    "    return v\n",
    "end\n",
    "\n",
    "function f3quarters!(v,n)\n",
    "    for i = 1:n\n",
    "        rand() >= 0.75 ? v[i] = 1 : nothing\n",
    "    end\n",
    "    return v\n",
    "end\n",
    "\n",
    "function statistical_distribution_predefinev(n)\n",
    "    v = zeros(Int64,n)\n",
    "    f1 = mean(fmedian!(v,n))\n",
    "    v .= 0\n",
    "    f2 = mean(fquarter!(v,n))\n",
    "    v .= 0\n",
    "    f3 = mean(f3quarters!(v,n))\n",
    "    return f1,f2,f3\n",
    "end\n",
    "\n",
    "statistical_distribution_predefinev(1000)"
   ]
  },
  {
   "cell_type": "code",
   "execution_count": 31,
   "id": "023ff801",
   "metadata": {},
   "outputs": [
    {
     "name": "stdout",
     "output_type": "stream",
     "text": [
      "  89.729 μs (4 allocations: 23.84 KiB)\n",
      "  87.888 μs (2 allocations: 7.97 KiB)\n"
     ]
    },
    {
     "data": {
      "text/plain": [
       "(0.523, 0.774, 0.252)"
      ]
     },
     "execution_count": 31,
     "metadata": {},
     "output_type": "execute_result"
    }
   ],
   "source": [
    "@btime statistical_distribution(ntrials)\n",
    "@btime statistical_distribution_predefinev(ntrials)"
   ]
  },
  {
   "cell_type": "code",
   "execution_count": 32,
   "id": "b3a2501d",
   "metadata": {},
   "outputs": [
    {
     "name": "stdout",
     "output_type": "stream",
     "text": [
      "  3.417 ns (0 allocations: 0 bytes)\n",
      "  3.414 ns (0 allocations: 0 bytes)\n"
     ]
    },
    {
     "data": {
      "text/plain": [
       "12.566370614359172"
      ]
     },
     "execution_count": 32,
     "metadata": {},
     "output_type": "execute_result"
    }
   ],
   "source": [
    "mutable struct square{T <: Real}\n",
    "    length::T\n",
    "    width::T\n",
    "end\n",
    "\n",
    "mutable struct circle{T <: Real}\n",
    "    radius::T\n",
    "end\n",
    "\n",
    "function area_no_dispatch(geometric_shape)\n",
    "    if isa(geometric_shape,square)\n",
    "        return geometric_shape.length*geometric_shape.width\n",
    "    elseif isa(geometric_shape,circle)\n",
    "        return pi*geometric_shape.radius^2\n",
    "    else\n",
    "        error(\"invalid argument\")\n",
    "    end\n",
    "end\n",
    "\n",
    "area(c::circle) = pi*c.radius^2\n",
    "area(s::square) = s.length*s.width\n",
    "\n",
    "@btime area_no_dispatch(circle(2))\n",
    "@btime area(circle(2))"
   ]
  },
  {
   "cell_type": "code",
   "execution_count": 35,
   "id": "424fb6fb",
   "metadata": {},
   "outputs": [],
   "source": [
    "# For each car, we'd like to store: make, miles, and number of previous owners. \n",
    "# We'll see what happens when we store them in a vector vs a static vector\n",
    "\n",
    "mutable struct mutableCar\n",
    "    description::Vector{Int}\n",
    "    name::String\n",
    "end\n",
    "\n",
    "struct immutableCar\n",
    "    description::Vector{Int}\n",
    "    name::String\n",
    "end\n",
    "\n",
    "using StaticArrays: SVector\n",
    "\n",
    "struct svectorCar\n",
    "    x::SVector{3, Int}\n",
    "    name::String\n",
    "end\n"
   ]
  },
  {
   "cell_type": "code",
   "execution_count": 36,
   "id": "aea23810",
   "metadata": {},
   "outputs": [
    {
     "name": "stdout",
     "output_type": "stream",
     "text": [
      "  125.785 μs (1000 allocations: 46.88 KiB)\n",
      "  126.358 μs (1000 allocations: 46.88 KiB)\n",
      "  18.526 μs (0 allocations: 0 bytes)\n"
     ]
    }
   ],
   "source": [
    "function test_mutable()\n",
    "    for i in 1:1000\n",
    "       x = mutableCar([rand(Int), rand(Int),rand(Int)],\"Honda\")\n",
    "    end\n",
    "end\n",
    "\n",
    "function test_immutable()\n",
    "    for i in 1:1000\n",
    "       x = immutableCar([rand(Int), rand(Int),rand(Int)],\"Honda\")\n",
    "    end\n",
    "end\n",
    "\n",
    "function test_SVector()\n",
    "    for i in 1:1000\n",
    "       x = svectorCar(SVector(rand(Int), rand(Int),rand(Int)),\"Honda\")\n",
    "    end\n",
    "end\n",
    "\n",
    "\n",
    "@btime test_mutable()\n",
    "@btime test_immutable()\n",
    "@btime test_SVector()\n"
   ]
  },
  {
   "cell_type": "code",
   "execution_count": 37,
   "id": "f78b4c8c",
   "metadata": {},
   "outputs": [
    {
     "data": {
      "text/plain": [
       "myadd1 (generic function with 1 method)"
      ]
     },
     "execution_count": 37,
     "metadata": {},
     "output_type": "execute_result"
    }
   ],
   "source": [
    "myadd1(x) = x+1"
   ]
  },
  {
   "cell_type": "code",
   "execution_count": 38,
   "id": "32212b0f",
   "metadata": {},
   "outputs": [
    {
     "data": {
      "text/plain": [
       "CodeInfo(\n",
       "\u001b[90m1 ─\u001b[39m %1 = x + 1\n",
       "\u001b[90m└──\u001b[39m      return %1\n",
       ")"
      ]
     },
     "execution_count": 38,
     "metadata": {},
     "output_type": "execute_result"
    }
   ],
   "source": [
    "@code_lowered myadd1(1)"
   ]
  },
  {
   "cell_type": "code",
   "execution_count": 39,
   "id": "a49eb977",
   "metadata": {},
   "outputs": [
    {
     "name": "stdout",
     "output_type": "stream",
     "text": [
      "MethodInstance for myadd1(::Int32)\n",
      "  from myadd1(x) in Main at In[37]:1\n",
      "Arguments\n",
      "  #self#\u001b[36m::Core.Const(myadd1)\u001b[39m\n",
      "  x\u001b[36m::Int32\u001b[39m\n",
      "Body\u001b[36m::Int32\u001b[39m\n",
      "\u001b[90m1 ─\u001b[39m %1 = (x + 1)\u001b[36m::Int32\u001b[39m\n",
      "\u001b[90m└──\u001b[39m      return %1\n",
      "\n"
     ]
    }
   ],
   "source": [
    "@code_warntype myadd1(1)"
   ]
  },
  {
   "cell_type": "code",
   "execution_count": 40,
   "id": "deb49d81",
   "metadata": {},
   "outputs": [
    {
     "data": {
      "text/plain": [
       "CodeInfo(\n",
       "\u001b[90m1 ─\u001b[39m %1 = Base.add_int(x, 1)\u001b[36m::Int32\u001b[39m\n",
       "\u001b[90m└──\u001b[39m      return %1\n",
       ") => Int32"
      ]
     },
     "execution_count": 40,
     "metadata": {},
     "output_type": "execute_result"
    }
   ],
   "source": [
    "@code_typed myadd1(1)"
   ]
  },
  {
   "cell_type": "code",
   "execution_count": 41,
   "id": "5b15901d",
   "metadata": {},
   "outputs": [
    {
     "name": "stdout",
     "output_type": "stream",
     "text": [
      "\u001b[90m;  @ In[37]:1 within `myadd1`\u001b[39m\n",
      "\u001b[95mdefine\u001b[39m \u001b[36mi32\u001b[39m \u001b[93m@julia_myadd1_2914\u001b[39m\u001b[33m(\u001b[39m\u001b[36mi32\u001b[39m \u001b[95msignext\u001b[39m \u001b[0m%0\u001b[33m)\u001b[39m \u001b[0m#0 \u001b[33m{\u001b[39m\n",
      "\u001b[91mtop:\u001b[39m\n",
      "\u001b[90m; ┌ @ int.jl:87 within `+`\u001b[39m\n",
      "   \u001b[0m%1 \u001b[0m= \u001b[96m\u001b[1madd\u001b[22m\u001b[39m \u001b[36mi32\u001b[39m \u001b[0m%0\u001b[0m, \u001b[33m1\u001b[39m\n",
      "\u001b[90m; └\u001b[39m\n",
      "  \u001b[96m\u001b[1mret\u001b[22m\u001b[39m \u001b[36mi32\u001b[39m \u001b[0m%1\n",
      "\u001b[33m}\u001b[39m\n"
     ]
    }
   ],
   "source": [
    "@code_llvm myadd1(1)"
   ]
  },
  {
   "cell_type": "code",
   "execution_count": 42,
   "id": "0ce68710",
   "metadata": {},
   "outputs": [
    {
     "name": "stdout",
     "output_type": "stream",
     "text": [
      "\t\u001b[0m.text\n",
      "\u001b[90m; ┌ @ In[37]:1 within `myadd1`\u001b[39m\n",
      "\t\u001b[96m\u001b[1mmovl\u001b[22m\u001b[39m\t\u001b[33m4\u001b[39m\u001b[33m(\u001b[39m\u001b[0m%esp\u001b[33m)\u001b[39m\u001b[0m, \u001b[0m%eax\n",
      "\u001b[90m; │┌ @ int.jl:87 within `+`\u001b[39m\n",
      "\t\u001b[96m\u001b[1mincl\u001b[22m\u001b[39m\t\u001b[0m%eax\n",
      "\u001b[90m; │└\u001b[39m\n",
      "\t\u001b[96m\u001b[1mretl\u001b[22m\u001b[39m\n",
      "\t\u001b[96m\u001b[1mnopw\u001b[22m\u001b[39m\t\u001b[0m%cs\u001b[0m:\u001b[33m(\u001b[39m\u001b[0m%eax\u001b[0m,\u001b[0m%eax\u001b[33m)\u001b[39m\n",
      "\u001b[90m; └\u001b[39m\n"
     ]
    }
   ],
   "source": [
    "@code_native myadd1(1)"
   ]
  },
  {
   "cell_type": "code",
   "execution_count": null,
   "id": "ed27660c",
   "metadata": {},
   "outputs": [],
   "source": []
  }
 ],
 "metadata": {
  "kernelspec": {
   "display_name": "Julia 1.7.1",
   "language": "julia",
   "name": "julia-1.7"
  },
  "language_info": {
   "file_extension": ".jl",
   "mimetype": "application/julia",
   "name": "julia",
   "version": "1.7.1"
  }
 },
 "nbformat": 4,
 "nbformat_minor": 5
}
